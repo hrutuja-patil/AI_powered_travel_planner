{
 "cells": [
  {
   "cell_type": "code",
   "execution_count": null,
   "id": "521ec1df-5bcd-46ec-8ff6-bf5118d3b335",
   "metadata": {},
   "outputs": [],
   "source": [
    "Key components:\n",
    "\n",
    "1.Stategraph: Defines the flow of travel planner\n",
    "\n",
    "2.plannerstate: A custom type representing the state of our planning process\n",
    "\n",
    "3.Node Function: Individual steps in planning process \n",
    "a.Input_city\n",
    "b.Input_interests\n",
    "c.Create_itinerary\n",
    "\n",
    "4.LLM Integration: Utilizing  a language model to crate final itinerary\n"
   ]
  },
  {
   "cell_type": "code",
   "execution_count": null,
   "id": "9db9cf68-a8a0-45c3-b5c7-ce434502ad82",
   "metadata": {},
   "outputs": [],
   "source": []
  }
 ],
 "metadata": {
  "kernelspec": {
   "display_name": "Python [conda env:base] *",
   "language": "python",
   "name": "conda-base-py"
  },
  "language_info": {
   "codemirror_mode": {
    "name": "ipython",
    "version": 3
   },
   "file_extension": ".py",
   "mimetype": "text/x-python",
   "name": "python",
   "nbconvert_exporter": "python",
   "pygments_lexer": "ipython3",
   "version": "3.11.7"
  }
 },
 "nbformat": 4,
 "nbformat_minor": 5
}
